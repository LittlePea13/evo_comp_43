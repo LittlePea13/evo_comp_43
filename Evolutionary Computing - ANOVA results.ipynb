{
 "cells": [
  {
   "cell_type": "code",
   "execution_count": 1,
   "metadata": {},
   "outputs": [],
   "source": [
    "import pandas as pd\n",
    "import numpy as np"
   ]
  },
  {
   "cell_type": "code",
   "execution_count": 7,
   "metadata": {},
   "outputs": [],
   "source": [
    "def get_df_max_fitness_time(url_base, file_num):\n",
    "     # read_csv from file on github, find the maximum fitness score and store in list\n",
    "    fitness_scores = []\n",
    "    elapsed_time = []\n",
    "    generations_num = []\n",
    "    for i in range(0, file_num):\n",
    "        csv_name = url_base + str(i) + '.csv'\n",
    "        df = pd.read_csv(csv_name)\n",
    "        df = df.dropna(axis=0)\n",
    "        fitness_scores.append(df[\" best_fitness \"].iloc[-1])\n",
    "        # get the index of the row where the maximum score first occurs\n",
    "        first_idx_max_score = df[' best_fitness '].idxmax()\n",
    "        elapsed_time.append(df.iloc[first_idx_max_score][' time_elapsed'])\n",
    "        generations_num.append(int(df.iloc[first_idx_max_score]['generations '].strip()))\n",
    "    \n",
    "    # make df \n",
    "    df_final = pd.DataFrame(data=fitness_scores, columns=['max_fitness_score'])\n",
    "    df_final[\"time_to_max_fitness\"] = elapsed_time\n",
    "    df_final[\"gen_to_max_fitness\"] = generations_num\n",
    "    return df_final"
   ]
  },
  {
   "cell_type": "markdown",
   "metadata": {},
   "source": [
    "## Schaffers"
   ]
  },
  {
   "cell_type": "markdown",
   "metadata": {},
   "source": [
    "### Schaffers - Adaptive"
   ]
  },
  {
   "cell_type": "code",
   "execution_count": 18,
   "metadata": {},
   "outputs": [
    {
     "data": {
      "text/plain": [
       "9.999998168125328"
      ]
     },
     "execution_count": 18,
     "metadata": {},
     "output_type": "execute_result"
    }
   ],
   "source": [
    "url_base = 'https://raw.githubusercontent.com/LittlePea13/evo_comp_43/pere/SchaffersFio/SchaffersAdapt'\n",
    "schaffers_adapt = get_df_max_fitness_time(url_base, 50)\n",
    "schaffers_adapt[\"init\"] = 'Adaptive Randomness'\n",
    "schaffers_adapt[\"max_fitness_score\"].mean()"
   ]
  },
  {
   "cell_type": "code",
   "execution_count": 22,
   "metadata": {},
   "outputs": [
    {
     "data": {
      "text/html": [
       "<div>\n",
       "<style scoped>\n",
       "    .dataframe tbody tr th:only-of-type {\n",
       "        vertical-align: middle;\n",
       "    }\n",
       "\n",
       "    .dataframe tbody tr th {\n",
       "        vertical-align: top;\n",
       "    }\n",
       "\n",
       "    .dataframe thead th {\n",
       "        text-align: right;\n",
       "    }\n",
       "</style>\n",
       "<table border=\"1\" class=\"dataframe\">\n",
       "  <thead>\n",
       "    <tr style=\"text-align: right;\">\n",
       "      <th></th>\n",
       "      <th>max_fitness_score</th>\n",
       "      <th>time_to_max_fitness</th>\n",
       "      <th>gen_to_max_fitness</th>\n",
       "      <th>init</th>\n",
       "    </tr>\n",
       "  </thead>\n",
       "  <tbody>\n",
       "    <tr>\n",
       "      <th>0</th>\n",
       "      <td>9.999968</td>\n",
       "      <td>1.960</td>\n",
       "      <td>1892</td>\n",
       "      <td>Adaptive Randomness</td>\n",
       "    </tr>\n",
       "    <tr>\n",
       "      <th>1</th>\n",
       "      <td>10.000000</td>\n",
       "      <td>1.482</td>\n",
       "      <td>1589</td>\n",
       "      <td>Adaptive Randomness</td>\n",
       "    </tr>\n",
       "    <tr>\n",
       "      <th>2</th>\n",
       "      <td>10.000000</td>\n",
       "      <td>2.058</td>\n",
       "      <td>1867</td>\n",
       "      <td>Adaptive Randomness</td>\n",
       "    </tr>\n",
       "    <tr>\n",
       "      <th>3</th>\n",
       "      <td>10.000000</td>\n",
       "      <td>1.827</td>\n",
       "      <td>1905</td>\n",
       "      <td>Adaptive Randomness</td>\n",
       "    </tr>\n",
       "    <tr>\n",
       "      <th>4</th>\n",
       "      <td>10.000000</td>\n",
       "      <td>1.788</td>\n",
       "      <td>1482</td>\n",
       "      <td>Adaptive Randomness</td>\n",
       "    </tr>\n",
       "  </tbody>\n",
       "</table>\n",
       "</div>"
      ],
      "text/plain": [
       "   max_fitness_score  time_to_max_fitness  gen_to_max_fitness  \\\n",
       "0           9.999968                1.960                1892   \n",
       "1          10.000000                1.482                1589   \n",
       "2          10.000000                2.058                1867   \n",
       "3          10.000000                1.827                1905   \n",
       "4          10.000000                1.788                1482   \n",
       "\n",
       "                  init  \n",
       "0  Adaptive Randomness  \n",
       "1  Adaptive Randomness  \n",
       "2  Adaptive Randomness  \n",
       "3  Adaptive Randomness  \n",
       "4  Adaptive Randomness  "
      ]
     },
     "execution_count": 22,
     "metadata": {},
     "output_type": "execute_result"
    }
   ],
   "source": [
    "schaffers_adapt.head()"
   ]
  },
  {
   "cell_type": "markdown",
   "metadata": {},
   "source": [
    "### Schaffers - Gaussian"
   ]
  },
  {
   "cell_type": "code",
   "execution_count": 19,
   "metadata": {},
   "outputs": [
    {
     "data": {
      "text/plain": [
       "9.99999912403433"
      ]
     },
     "execution_count": 19,
     "metadata": {},
     "output_type": "execute_result"
    }
   ],
   "source": [
    "url_base_1 = 'https://raw.githubusercontent.com/LittlePea13/evo_comp_43/pere/SchaffersFio/SchaffersGauss'\n",
    "schaffers_gauss = get_df_max_fitness_time(url_base_1, 50)\n",
    "schaffers_gauss[\"init\"] = 'Gaussian'\n",
    "schaffers_gauss['max_fitness_score'].mean()"
   ]
  },
  {
   "cell_type": "code",
   "execution_count": 21,
   "metadata": {},
   "outputs": [
    {
     "data": {
      "text/html": [
       "<div>\n",
       "<style scoped>\n",
       "    .dataframe tbody tr th:only-of-type {\n",
       "        vertical-align: middle;\n",
       "    }\n",
       "\n",
       "    .dataframe tbody tr th {\n",
       "        vertical-align: top;\n",
       "    }\n",
       "\n",
       "    .dataframe thead th {\n",
       "        text-align: right;\n",
       "    }\n",
       "</style>\n",
       "<table border=\"1\" class=\"dataframe\">\n",
       "  <thead>\n",
       "    <tr style=\"text-align: right;\">\n",
       "      <th></th>\n",
       "      <th>max_fitness_score</th>\n",
       "      <th>time_to_max_fitness</th>\n",
       "      <th>gen_to_max_fitness</th>\n",
       "      <th>init</th>\n",
       "    </tr>\n",
       "  </thead>\n",
       "  <tbody>\n",
       "    <tr>\n",
       "      <th>0</th>\n",
       "      <td>10.0</td>\n",
       "      <td>1.522</td>\n",
       "      <td>1638</td>\n",
       "      <td>Gaussian</td>\n",
       "    </tr>\n",
       "    <tr>\n",
       "      <th>1</th>\n",
       "      <td>10.0</td>\n",
       "      <td>1.663</td>\n",
       "      <td>1607</td>\n",
       "      <td>Gaussian</td>\n",
       "    </tr>\n",
       "    <tr>\n",
       "      <th>2</th>\n",
       "      <td>10.0</td>\n",
       "      <td>1.553</td>\n",
       "      <td>1665</td>\n",
       "      <td>Gaussian</td>\n",
       "    </tr>\n",
       "    <tr>\n",
       "      <th>3</th>\n",
       "      <td>10.0</td>\n",
       "      <td>1.688</td>\n",
       "      <td>1809</td>\n",
       "      <td>Gaussian</td>\n",
       "    </tr>\n",
       "    <tr>\n",
       "      <th>4</th>\n",
       "      <td>10.0</td>\n",
       "      <td>1.498</td>\n",
       "      <td>1600</td>\n",
       "      <td>Gaussian</td>\n",
       "    </tr>\n",
       "  </tbody>\n",
       "</table>\n",
       "</div>"
      ],
      "text/plain": [
       "   max_fitness_score  time_to_max_fitness  gen_to_max_fitness      init\n",
       "0               10.0                1.522                1638  Gaussian\n",
       "1               10.0                1.663                1607  Gaussian\n",
       "2               10.0                1.553                1665  Gaussian\n",
       "3               10.0                1.688                1809  Gaussian\n",
       "4               10.0                1.498                1600  Gaussian"
      ]
     },
     "execution_count": 21,
     "metadata": {},
     "output_type": "execute_result"
    }
   ],
   "source": [
    "schaffers_gauss.head()"
   ]
  },
  {
   "cell_type": "markdown",
   "metadata": {},
   "source": [
    "### Schaffers - Opposition Based "
   ]
  },
  {
   "cell_type": "code",
   "execution_count": 23,
   "metadata": {},
   "outputs": [
    {
     "data": {
      "text/plain": [
       "9.9999966181511"
      ]
     },
     "execution_count": 23,
     "metadata": {},
     "output_type": "execute_result"
    }
   ],
   "source": [
    "url_base_2 = 'https://raw.githubusercontent.com/LittlePea13/evo_comp_43/pere/SchaffersFio/SchaffersOppo'\n",
    "schaffers_opp = get_df_max_fitness_time(url_base_2, 50)\n",
    "schaffers_opp[\"init\"] = 'Opposition Based'\n",
    "schaffers_opp['max_fitness_score'].mean()"
   ]
  },
  {
   "cell_type": "code",
   "execution_count": 24,
   "metadata": {},
   "outputs": [
    {
     "data": {
      "text/html": [
       "<div>\n",
       "<style scoped>\n",
       "    .dataframe tbody tr th:only-of-type {\n",
       "        vertical-align: middle;\n",
       "    }\n",
       "\n",
       "    .dataframe tbody tr th {\n",
       "        vertical-align: top;\n",
       "    }\n",
       "\n",
       "    .dataframe thead th {\n",
       "        text-align: right;\n",
       "    }\n",
       "</style>\n",
       "<table border=\"1\" class=\"dataframe\">\n",
       "  <thead>\n",
       "    <tr style=\"text-align: right;\">\n",
       "      <th></th>\n",
       "      <th>max_fitness_score</th>\n",
       "      <th>time_to_max_fitness</th>\n",
       "      <th>gen_to_max_fitness</th>\n",
       "      <th>init</th>\n",
       "    </tr>\n",
       "  </thead>\n",
       "  <tbody>\n",
       "    <tr>\n",
       "      <th>0</th>\n",
       "      <td>9.999926</td>\n",
       "      <td>1.934</td>\n",
       "      <td>1898</td>\n",
       "      <td>Opposition Based</td>\n",
       "    </tr>\n",
       "    <tr>\n",
       "      <th>1</th>\n",
       "      <td>10.000000</td>\n",
       "      <td>1.571</td>\n",
       "      <td>1584</td>\n",
       "      <td>Opposition Based</td>\n",
       "    </tr>\n",
       "    <tr>\n",
       "      <th>2</th>\n",
       "      <td>10.000000</td>\n",
       "      <td>1.449</td>\n",
       "      <td>1633</td>\n",
       "      <td>Opposition Based</td>\n",
       "    </tr>\n",
       "    <tr>\n",
       "      <th>3</th>\n",
       "      <td>10.000000</td>\n",
       "      <td>1.382</td>\n",
       "      <td>1552</td>\n",
       "      <td>Opposition Based</td>\n",
       "    </tr>\n",
       "    <tr>\n",
       "      <th>4</th>\n",
       "      <td>10.000000</td>\n",
       "      <td>1.586</td>\n",
       "      <td>1761</td>\n",
       "      <td>Opposition Based</td>\n",
       "    </tr>\n",
       "  </tbody>\n",
       "</table>\n",
       "</div>"
      ],
      "text/plain": [
       "   max_fitness_score  time_to_max_fitness  gen_to_max_fitness  \\\n",
       "0           9.999926                1.934                1898   \n",
       "1          10.000000                1.571                1584   \n",
       "2          10.000000                1.449                1633   \n",
       "3          10.000000                1.382                1552   \n",
       "4          10.000000                1.586                1761   \n",
       "\n",
       "               init  \n",
       "0  Opposition Based  \n",
       "1  Opposition Based  \n",
       "2  Opposition Based  \n",
       "3  Opposition Based  \n",
       "4  Opposition Based  "
      ]
     },
     "execution_count": 24,
     "metadata": {},
     "output_type": "execute_result"
    }
   ],
   "source": [
    "schaffers_opp.head()"
   ]
  },
  {
   "cell_type": "markdown",
   "metadata": {},
   "source": [
    "### Schaffers - Uniform Random "
   ]
  },
  {
   "cell_type": "code",
   "execution_count": 25,
   "metadata": {},
   "outputs": [
    {
     "data": {
      "text/plain": [
       "9.999986566040606"
      ]
     },
     "execution_count": 25,
     "metadata": {},
     "output_type": "execute_result"
    }
   ],
   "source": [
    "url_base_3 = 'https://raw.githubusercontent.com/LittlePea13/evo_comp_43/pere/SchaffersFio/SchaffersRandUnif'\n",
    "schaffers_unifrand = get_df_max_fitness_time(url_base_3, 50)\n",
    "schaffers_unifrand[\"init\"] = 'Uniform Random'\n",
    "schaffers_unifrand['max_fitness_score'].mean()"
   ]
  },
  {
   "cell_type": "code",
   "execution_count": 26,
   "metadata": {
    "scrolled": false
   },
   "outputs": [
    {
     "data": {
      "text/html": [
       "<div>\n",
       "<style scoped>\n",
       "    .dataframe tbody tr th:only-of-type {\n",
       "        vertical-align: middle;\n",
       "    }\n",
       "\n",
       "    .dataframe tbody tr th {\n",
       "        vertical-align: top;\n",
       "    }\n",
       "\n",
       "    .dataframe thead th {\n",
       "        text-align: right;\n",
       "    }\n",
       "</style>\n",
       "<table border=\"1\" class=\"dataframe\">\n",
       "  <thead>\n",
       "    <tr style=\"text-align: right;\">\n",
       "      <th></th>\n",
       "      <th>max_fitness_score</th>\n",
       "      <th>time_to_max_fitness</th>\n",
       "      <th>gen_to_max_fitness</th>\n",
       "      <th>init</th>\n",
       "    </tr>\n",
       "  </thead>\n",
       "  <tbody>\n",
       "    <tr>\n",
       "      <th>0</th>\n",
       "      <td>10.0</td>\n",
       "      <td>1.361</td>\n",
       "      <td>1548</td>\n",
       "      <td>Uniform Random</td>\n",
       "    </tr>\n",
       "    <tr>\n",
       "      <th>1</th>\n",
       "      <td>10.0</td>\n",
       "      <td>1.649</td>\n",
       "      <td>1846</td>\n",
       "      <td>Uniform Random</td>\n",
       "    </tr>\n",
       "    <tr>\n",
       "      <th>2</th>\n",
       "      <td>10.0</td>\n",
       "      <td>1.365</td>\n",
       "      <td>1547</td>\n",
       "      <td>Uniform Random</td>\n",
       "    </tr>\n",
       "    <tr>\n",
       "      <th>3</th>\n",
       "      <td>10.0</td>\n",
       "      <td>1.703</td>\n",
       "      <td>1650</td>\n",
       "      <td>Uniform Random</td>\n",
       "    </tr>\n",
       "    <tr>\n",
       "      <th>4</th>\n",
       "      <td>10.0</td>\n",
       "      <td>1.815</td>\n",
       "      <td>1697</td>\n",
       "      <td>Uniform Random</td>\n",
       "    </tr>\n",
       "  </tbody>\n",
       "</table>\n",
       "</div>"
      ],
      "text/plain": [
       "   max_fitness_score  time_to_max_fitness  gen_to_max_fitness            init\n",
       "0               10.0                1.361                1548  Uniform Random\n",
       "1               10.0                1.649                1846  Uniform Random\n",
       "2               10.0                1.365                1547  Uniform Random\n",
       "3               10.0                1.703                1650  Uniform Random\n",
       "4               10.0                1.815                1697  Uniform Random"
      ]
     },
     "execution_count": 26,
     "metadata": {},
     "output_type": "execute_result"
    }
   ],
   "source": [
    "schaffers_unifrand.head()"
   ]
  },
  {
   "cell_type": "code",
   "execution_count": 202,
   "metadata": {},
   "outputs": [],
   "source": [
    "#concat all Schaffers results together\n",
    "frames = [schaffers_adapt, schaffers_gauss, schaffers_opp, schaffers_unifrand]\n",
    "schaffers_results = pd.concat(frames)"
   ]
  },
  {
   "cell_type": "code",
   "execution_count": 203,
   "metadata": {},
   "outputs": [],
   "source": [
    "schaffers_results[\"gen_to_max_fitness\"] = schaffers_results[\"gen_to_max_fitness\"].astype(float)"
   ]
  },
  {
   "cell_type": "markdown",
   "metadata": {},
   "source": [
    "### Schaffers - ANOVA"
   ]
  },
  {
   "cell_type": "code",
   "execution_count": 204,
   "metadata": {},
   "outputs": [],
   "source": [
    "%matplotlib inline\n",
    "\n",
    "from __future__ import print_function\n",
    "import matplotlib.pyplot as plt\n",
    "import statsmodels.api as sm\n",
    "from statsmodels.formula.api import ols\n",
    "import statsmodels.formula.api as smf"
   ]
  },
  {
   "cell_type": "markdown",
   "metadata": {},
   "source": [
    "#### Elapsed time to max fitness"
   ]
  },
  {
   "cell_type": "code",
   "execution_count": 205,
   "metadata": {},
   "outputs": [
    {
     "name": "stdout",
     "output_type": "stream",
     "text": [
      "            sum_sq     df         F    PR(>F)\n",
      "init      0.563442    3.0  3.953494  0.009117\n",
      "Residual  9.311146  196.0       NaN       NaN\n"
     ]
    }
   ],
   "source": [
    "mod = ols('time_to_max_fitness ~ init', data=schaffers_results).fit()\n",
    "aov_table = sm.stats.anova_lm(mod, typ=2)\n",
    "print(aov_table)"
   ]
  },
  {
   "cell_type": "markdown",
   "metadata": {},
   "source": [
    "#### Max Fitness Score"
   ]
  },
  {
   "cell_type": "code",
   "execution_count": 206,
   "metadata": {},
   "outputs": [
    {
     "name": "stdout",
     "output_type": "stream",
     "text": [
      "                sum_sq     df         F    PR(>F)\n",
      "init      5.036902e-09    3.0  2.549537  0.056991\n",
      "Residual  1.290735e-07  196.0       NaN       NaN\n"
     ]
    }
   ],
   "source": [
    "mod = ols('max_fitness_score ~ init', data=schaffers_results).fit()\n",
    "aov_table = sm.stats.anova_lm(mod, typ=2)\n",
    "print(aov_table)"
   ]
  },
  {
   "cell_type": "markdown",
   "metadata": {},
   "source": [
    "#### Num of generations to max fitness"
   ]
  },
  {
   "cell_type": "code",
   "execution_count": 207,
   "metadata": {},
   "outputs": [
    {
     "name": "stdout",
     "output_type": "stream",
     "text": [
      "              sum_sq     df        F    PR(>F)\n",
      "init         3508.98    3.0  0.06046  0.980479\n",
      "Residual  3791802.44  196.0      NaN       NaN\n"
     ]
    }
   ],
   "source": [
    "mod = ols('gen_to_max_fitness ~ init', data=schaffers_results).fit()\n",
    "aov_table = sm.stats.anova_lm(mod, typ=2)\n",
    "print(aov_table)"
   ]
  },
  {
   "cell_type": "code",
   "execution_count": 218,
   "metadata": {
    "scrolled": true
   },
   "outputs": [
    {
     "name": "stdout",
     "output_type": "stream",
     "text": [
      "ANOVA results: F= 10.793495584118183 , P = 0.001413739864419087\n"
     ]
    }
   ],
   "source": [
    "# testing for the separate initiation methods\n",
    "grouped_schaffers=schaffers_results.groupby(['init'])\n",
    "f_val, p_val = stats.f_oneway(grouped_schaffers.get_group('Adaptive Randomness')['time_to_max_fitness'], grouped_schaffers.get_group('Uniform Random')['time_to_max_fitness'])  \n",
    " \n",
    "print( \"ANOVA results: F=\", f_val, \", P =\", p_val )"
   ]
  },
  {
   "cell_type": "markdown",
   "metadata": {},
   "source": [
    "### Schaffers - BoxPlot"
   ]
  },
  {
   "cell_type": "code",
   "execution_count": 33,
   "metadata": {},
   "outputs": [],
   "source": [
    "data_1 = schaffers_results[schaffers_results[\"init\"] == \"Uniform Random\"][\"time_to_max_fitness\"]\n",
    "data_2 = schaffers_results[schaffers_results[\"init\"] == \"Gaussian\"][\"time_to_max_fitness\"]\n",
    "data_3 = schaffers_results[schaffers_results[\"init\"] == \"Opposition Based\"][\"time_to_max_fitness\"]\n",
    "data_4 = schaffers_results[schaffers_results[\"init\"] == \"Adaptive Randomness\"][\"time_to_max_fitness\"]"
   ]
  },
  {
   "cell_type": "code",
   "execution_count": 34,
   "metadata": {},
   "outputs": [],
   "source": [
    "data_to_plot = [data_1, data_2, data_3, data_4]"
   ]
  },
  {
   "cell_type": "code",
   "execution_count": 35,
   "metadata": {},
   "outputs": [
    {
     "data": {
      "image/png": "[encoded data removed]",
      "text/plain": [
       "<matplotlib.figure.Figure at 0x114abc978>"
      ]
     },
     "metadata": {},
     "output_type": "display_data"
    }
   ],
   "source": [
    "# Create a figure instance\n",
    "fig = plt.figure(1, figsize=(9, 6))\n",
    "# Create an axes instance\n",
    "ax = fig.add_subplot(111)\n",
    "# Create the boxplot\n",
    "bp = ax.boxplot(data_to_plot)"
   ]
  },
  {
   "cell_type": "markdown",
   "metadata": {},
   "source": [
    "# Katsuura "
   ]
  },
  {
   "cell_type": "markdown",
   "metadata": {},
   "source": [
    "### Katsuura - Adaptive Randomness"
   ]
  },
  {
   "cell_type": "code",
   "execution_count": 141,
   "metadata": {},
   "outputs": [
    {
     "data": {
      "text/plain": [
       "9.45700522776766"
      ]
     },
     "execution_count": 141,
     "metadata": {},
     "output_type": "execute_result"
    }
   ],
   "source": [
    "k_url_base = 'https://raw.githubusercontent.com/LittlePea13/evo_comp_43/pere/KatsuuraFio/KatsuuraAdapt'\n",
    "katsuura_adapt = get_df_max_fitness_time(k_url_base, 100)\n",
    "katsuura_adapt[\"init\"] = 'Adaptive Randomness'\n",
    "katsuura_adapt[\"max_fitness_score\"].mean()"
   ]
  },
  {
   "cell_type": "code",
   "execution_count": 148,
   "metadata": {},
   "outputs": [
    {
     "data": {
      "text/html": [
       "<div>\n",
       "<style scoped>\n",
       "    .dataframe tbody tr th:only-of-type {\n",
       "        vertical-align: middle;\n",
       "    }\n",
       "\n",
       "    .dataframe tbody tr th {\n",
       "        vertical-align: top;\n",
       "    }\n",
       "\n",
       "    .dataframe thead th {\n",
       "        text-align: right;\n",
       "    }\n",
       "</style>\n",
       "<table border=\"1\" class=\"dataframe\">\n",
       "  <thead>\n",
       "    <tr style=\"text-align: right;\">\n",
       "      <th></th>\n",
       "      <th>max_fitness_score</th>\n",
       "      <th>time_to_max_fitness</th>\n",
       "      <th>gen_to_max_fitness</th>\n",
       "      <th>init</th>\n",
       "    </tr>\n",
       "  </thead>\n",
       "  <tbody>\n",
       "    <tr>\n",
       "      <th>0</th>\n",
       "      <td>10.000000</td>\n",
       "      <td>10.461</td>\n",
       "      <td>11275</td>\n",
       "      <td>Adaptive Randomness</td>\n",
       "    </tr>\n",
       "    <tr>\n",
       "      <th>1</th>\n",
       "      <td>9.166304</td>\n",
       "      <td>17.600</td>\n",
       "      <td>22849</td>\n",
       "      <td>Adaptive Randomness</td>\n",
       "    </tr>\n",
       "    <tr>\n",
       "      <th>2</th>\n",
       "      <td>10.000000</td>\n",
       "      <td>9.128</td>\n",
       "      <td>13059</td>\n",
       "      <td>Adaptive Randomness</td>\n",
       "    </tr>\n",
       "    <tr>\n",
       "      <th>3</th>\n",
       "      <td>6.371973</td>\n",
       "      <td>18.145</td>\n",
       "      <td>24179</td>\n",
       "      <td>Adaptive Randomness</td>\n",
       "    </tr>\n",
       "    <tr>\n",
       "      <th>4</th>\n",
       "      <td>10.000000</td>\n",
       "      <td>12.733</td>\n",
       "      <td>13453</td>\n",
       "      <td>Adaptive Randomness</td>\n",
       "    </tr>\n",
       "  </tbody>\n",
       "</table>\n",
       "</div>"
      ],
      "text/plain": [
       "   max_fitness_score  time_to_max_fitness  gen_to_max_fitness  \\\n",
       "0          10.000000               10.461               11275   \n",
       "1           9.166304               17.600               22849   \n",
       "2          10.000000                9.128               13059   \n",
       "3           6.371973               18.145               24179   \n",
       "4          10.000000               12.733               13453   \n",
       "\n",
       "                  init  \n",
       "0  Adaptive Randomness  \n",
       "1  Adaptive Randomness  \n",
       "2  Adaptive Randomness  \n",
       "3  Adaptive Randomness  \n",
       "4  Adaptive Randomness  "
      ]
     },
     "execution_count": 148,
     "metadata": {},
     "output_type": "execute_result"
    }
   ],
   "source": [
    "katsuura_adapt.head()"
   ]
  },
  {
   "cell_type": "markdown",
   "metadata": {},
   "source": [
    "### Katsuura - Gaussian"
   ]
  },
  {
   "cell_type": "code",
   "execution_count": 154,
   "metadata": {},
   "outputs": [
    {
     "data": {
      "text/plain": [
       "8.765708650261239"
      ]
     },
     "execution_count": 154,
     "metadata": {},
     "output_type": "execute_result"
    }
   ],
   "source": [
    "k_url_base_1 = 'https://raw.githubusercontent.com/LittlePea13/evo_comp_43/pere/KatsuuraFio/KatsuuraGauss'\n",
    "katsuura_gauss = get_df_max_fitness_time(k_url_base_1, 100)\n",
    "katsuura_gauss[\"init\"] = 'Gaussian'\n",
    "katsuura_gauss['max_fitness_score'].mean()"
   ]
  },
  {
   "cell_type": "code",
   "execution_count": 155,
   "metadata": {},
   "outputs": [
    {
     "data": {
      "text/html": [
       "<div>\n",
       "<style scoped>\n",
       "    .dataframe tbody tr th:only-of-type {\n",
       "        vertical-align: middle;\n",
       "    }\n",
       "\n",
       "    .dataframe tbody tr th {\n",
       "        vertical-align: top;\n",
       "    }\n",
       "\n",
       "    .dataframe thead th {\n",
       "        text-align: right;\n",
       "    }\n",
       "</style>\n",
       "<table border=\"1\" class=\"dataframe\">\n",
       "  <thead>\n",
       "    <tr style=\"text-align: right;\">\n",
       "      <th></th>\n",
       "      <th>max_fitness_score</th>\n",
       "      <th>time_to_max_fitness</th>\n",
       "      <th>gen_to_max_fitness</th>\n",
       "      <th>init</th>\n",
       "    </tr>\n",
       "  </thead>\n",
       "  <tbody>\n",
       "    <tr>\n",
       "      <th>0</th>\n",
       "      <td>10.000000</td>\n",
       "      <td>9.209</td>\n",
       "      <td>12253</td>\n",
       "      <td>Gaussian</td>\n",
       "    </tr>\n",
       "    <tr>\n",
       "      <th>1</th>\n",
       "      <td>10.000000</td>\n",
       "      <td>9.001</td>\n",
       "      <td>12821</td>\n",
       "      <td>Gaussian</td>\n",
       "    </tr>\n",
       "    <tr>\n",
       "      <th>2</th>\n",
       "      <td>10.000000</td>\n",
       "      <td>9.423</td>\n",
       "      <td>12481</td>\n",
       "      <td>Gaussian</td>\n",
       "    </tr>\n",
       "    <tr>\n",
       "      <th>3</th>\n",
       "      <td>5.296864</td>\n",
       "      <td>16.099</td>\n",
       "      <td>24595</td>\n",
       "      <td>Gaussian</td>\n",
       "    </tr>\n",
       "    <tr>\n",
       "      <th>4</th>\n",
       "      <td>5.622455</td>\n",
       "      <td>16.657</td>\n",
       "      <td>22347</td>\n",
       "      <td>Gaussian</td>\n",
       "    </tr>\n",
       "  </tbody>\n",
       "</table>\n",
       "</div>"
      ],
      "text/plain": [
       "   max_fitness_score  time_to_max_fitness  gen_to_max_fitness      init\n",
       "0          10.000000                9.209               12253  Gaussian\n",
       "1          10.000000                9.001               12821  Gaussian\n",
       "2          10.000000                9.423               12481  Gaussian\n",
       "3           5.296864               16.099               24595  Gaussian\n",
       "4           5.622455               16.657               22347  Gaussian"
      ]
     },
     "execution_count": 155,
     "metadata": {},
     "output_type": "execute_result"
    }
   ],
   "source": [
    "katsuura_gauss.head()"
   ]
  },
  {
   "cell_type": "markdown",
   "metadata": {},
   "source": [
    "### Katsuura - Opposition Based "
   ]
  },
  {
   "cell_type": "code",
   "execution_count": 139,
   "metadata": {},
   "outputs": [
    {
     "data": {
      "text/plain": [
       "9.140336175944737"
      ]
     },
     "execution_count": 139,
     "metadata": {},
     "output_type": "execute_result"
    }
   ],
   "source": [
    "k_url_base_2 = 'https://raw.githubusercontent.com/LittlePea13/evo_comp_43/pere/KatsuuraFio/KatsuuraOppo'\n",
    "katsuura_opp = get_df_max_fitness_time(k_url_base_2, 100)\n",
    "katsuura_opp[\"init\"] = 'Opposition Based'\n",
    "katsuura_opp['max_fitness_score'].mean()"
   ]
  },
  {
   "cell_type": "code",
   "execution_count": 144,
   "metadata": {},
   "outputs": [
    {
     "data": {
      "text/html": [
       "<div>\n",
       "<style scoped>\n",
       "    .dataframe tbody tr th:only-of-type {\n",
       "        vertical-align: middle;\n",
       "    }\n",
       "\n",
       "    .dataframe tbody tr th {\n",
       "        vertical-align: top;\n",
       "    }\n",
       "\n",
       "    .dataframe thead th {\n",
       "        text-align: right;\n",
       "    }\n",
       "</style>\n",
       "<table border=\"1\" class=\"dataframe\">\n",
       "  <thead>\n",
       "    <tr style=\"text-align: right;\">\n",
       "      <th></th>\n",
       "      <th>max_fitness_score</th>\n",
       "      <th>time_to_max_fitness</th>\n",
       "      <th>gen_to_max_fitness</th>\n",
       "      <th>init</th>\n",
       "    </tr>\n",
       "  </thead>\n",
       "  <tbody>\n",
       "    <tr>\n",
       "      <th>0</th>\n",
       "      <td>10.000000</td>\n",
       "      <td>9.226</td>\n",
       "      <td>12824</td>\n",
       "      <td>Opposition Based</td>\n",
       "    </tr>\n",
       "    <tr>\n",
       "      <th>1</th>\n",
       "      <td>10.000000</td>\n",
       "      <td>129.125</td>\n",
       "      <td>12414</td>\n",
       "      <td>Opposition Based</td>\n",
       "    </tr>\n",
       "    <tr>\n",
       "      <th>2</th>\n",
       "      <td>7.291547</td>\n",
       "      <td>13.911</td>\n",
       "      <td>22639</td>\n",
       "      <td>Opposition Based</td>\n",
       "    </tr>\n",
       "    <tr>\n",
       "      <th>3</th>\n",
       "      <td>7.291547</td>\n",
       "      <td>14.453</td>\n",
       "      <td>23405</td>\n",
       "      <td>Opposition Based</td>\n",
       "    </tr>\n",
       "    <tr>\n",
       "      <th>4</th>\n",
       "      <td>10.000000</td>\n",
       "      <td>8.218</td>\n",
       "      <td>13133</td>\n",
       "      <td>Opposition Based</td>\n",
       "    </tr>\n",
       "  </tbody>\n",
       "</table>\n",
       "</div>"
      ],
      "text/plain": [
       "   max_fitness_score  time_to_max_fitness  gen_to_max_fitness  \\\n",
       "0          10.000000                9.226               12824   \n",
       "1          10.000000              129.125               12414   \n",
       "2           7.291547               13.911               22639   \n",
       "3           7.291547               14.453               23405   \n",
       "4          10.000000                8.218               13133   \n",
       "\n",
       "               init  \n",
       "0  Opposition Based  \n",
       "1  Opposition Based  \n",
       "2  Opposition Based  \n",
       "3  Opposition Based  \n",
       "4  Opposition Based  "
      ]
     },
     "execution_count": 144,
     "metadata": {},
     "output_type": "execute_result"
    }
   ],
   "source": [
    "katsuura_opp.head()"
   ]
  },
  {
   "cell_type": "markdown",
   "metadata": {},
   "source": [
    "### Katsuura - Uniform Random"
   ]
  },
  {
   "cell_type": "code",
   "execution_count": 137,
   "metadata": {},
   "outputs": [
    {
     "data": {
      "text/plain": [
       "9.029471965425614"
      ]
     },
     "execution_count": 137,
     "metadata": {},
     "output_type": "execute_result"
    }
   ],
   "source": [
    "k_url_base_3 = 'https://raw.githubusercontent.com/LittlePea13/evo_comp_43/pere/KatsuuraFio/KatsuuraRandUnif'\n",
    "katsuura_unifrand = get_df_max_fitness_time(k_url_base_3, 100)\n",
    "katsuura_unifrand[\"init\"] = 'Uniform Random'\n",
    "katsuura_unifrand['max_fitness_score'].mean()"
   ]
  },
  {
   "cell_type": "code",
   "execution_count": 146,
   "metadata": {},
   "outputs": [
    {
     "data": {
      "text/html": [
       "<div>\n",
       "<style scoped>\n",
       "    .dataframe tbody tr th:only-of-type {\n",
       "        vertical-align: middle;\n",
       "    }\n",
       "\n",
       "    .dataframe tbody tr th {\n",
       "        vertical-align: top;\n",
       "    }\n",
       "\n",
       "    .dataframe thead th {\n",
       "        text-align: right;\n",
       "    }\n",
       "</style>\n",
       "<table border=\"1\" class=\"dataframe\">\n",
       "  <thead>\n",
       "    <tr style=\"text-align: right;\">\n",
       "      <th></th>\n",
       "      <th>max_fitness_score</th>\n",
       "      <th>time_to_max_fitness</th>\n",
       "      <th>gen_to_max_fitness</th>\n",
       "      <th>init</th>\n",
       "    </tr>\n",
       "  </thead>\n",
       "  <tbody>\n",
       "    <tr>\n",
       "      <th>0</th>\n",
       "      <td>10.0</td>\n",
       "      <td>7.633</td>\n",
       "      <td>11676</td>\n",
       "      <td>Uniform Random</td>\n",
       "    </tr>\n",
       "    <tr>\n",
       "      <th>1</th>\n",
       "      <td>10.0</td>\n",
       "      <td>8.261</td>\n",
       "      <td>12053</td>\n",
       "      <td>Uniform Random</td>\n",
       "    </tr>\n",
       "    <tr>\n",
       "      <th>2</th>\n",
       "      <td>10.0</td>\n",
       "      <td>7.828</td>\n",
       "      <td>12417</td>\n",
       "      <td>Uniform Random</td>\n",
       "    </tr>\n",
       "    <tr>\n",
       "      <th>3</th>\n",
       "      <td>10.0</td>\n",
       "      <td>8.066</td>\n",
       "      <td>12846</td>\n",
       "      <td>Uniform Random</td>\n",
       "    </tr>\n",
       "    <tr>\n",
       "      <th>4</th>\n",
       "      <td>10.0</td>\n",
       "      <td>9.332</td>\n",
       "      <td>14042</td>\n",
       "      <td>Uniform Random</td>\n",
       "    </tr>\n",
       "  </tbody>\n",
       "</table>\n",
       "</div>"
      ],
      "text/plain": [
       "   max_fitness_score  time_to_max_fitness  gen_to_max_fitness            init\n",
       "0               10.0                7.633               11676  Uniform Random\n",
       "1               10.0                8.261               12053  Uniform Random\n",
       "2               10.0                7.828               12417  Uniform Random\n",
       "3               10.0                8.066               12846  Uniform Random\n",
       "4               10.0                9.332               14042  Uniform Random"
      ]
     },
     "execution_count": 146,
     "metadata": {},
     "output_type": "execute_result"
    }
   ],
   "source": [
    "katsuura_unifrand.head()"
   ]
  },
  {
   "cell_type": "code",
   "execution_count": 157,
   "metadata": {},
   "outputs": [],
   "source": [
    "#concat all katsuura results together\n",
    "frames_k = [katsuura_adapt, katsuura_gauss, katsuura_opp, katsuura_unifrand]\n",
    "katsuura_results = pd.concat(frames_k)"
   ]
  },
  {
   "cell_type": "code",
   "execution_count": 158,
   "metadata": {},
   "outputs": [],
   "source": [
    "katsuura_results[\"gen_to_max_fitness\"] = katsuura_results[\"gen_to_max_fitness\"].astype(float)"
   ]
  },
  {
   "cell_type": "markdown",
   "metadata": {},
   "source": [
    "### Katsuura - ANOVA"
   ]
  },
  {
   "cell_type": "markdown",
   "metadata": {},
   "source": [
    "#### Elapsed time to Max Fitness"
   ]
  },
  {
   "cell_type": "code",
   "execution_count": 220,
   "metadata": {},
   "outputs": [
    {
     "name": "stdout",
     "output_type": "stream",
     "text": [
      "                sum_sq     df         F    PR(>F)\n",
      "init       1508.066538    3.0  2.529067  0.056922\n",
      "Residual  78710.771202  396.0       NaN       NaN\n"
     ]
    }
   ],
   "source": [
    "mod_k = ols('time_to_max_fitness ~ init', data=katsuura_results).fit()\n",
    "aov_table_k = sm.stats.anova_lm(mod_k, typ=2)\n",
    "print(aov_table_k)"
   ]
  },
  {
   "cell_type": "markdown",
   "metadata": {},
   "source": [
    "#### Max Fitness Score"
   ]
  },
  {
   "cell_type": "code",
   "execution_count": 160,
   "metadata": {},
   "outputs": [
    {
     "name": "stdout",
     "output_type": "stream",
     "text": [
      "               sum_sq     df         F    PR(>F)\n",
      "init        24.579067    3.0  2.219126  0.085411\n",
      "Residual  1462.033876  396.0       NaN       NaN\n"
     ]
    }
   ],
   "source": [
    "mod_k = ols('max_fitness_score ~ init', data=katsuura_results).fit()\n",
    "aov_table_k = sm.stats.anova_lm(mod_k, typ=2)\n",
    "print(aov_table_k)"
   ]
  },
  {
   "cell_type": "markdown",
   "metadata": {},
   "source": [
    "#### Number of generations to Max Fitness"
   ]
  },
  {
   "cell_type": "code",
   "execution_count": 161,
   "metadata": {},
   "outputs": [
    {
     "name": "stdout",
     "output_type": "stream",
     "text": [
      "               sum_sq     df         F    PR(>F)\n",
      "init        24.579067    3.0  2.219126  0.085411\n",
      "Residual  1462.033876  396.0       NaN       NaN\n"
     ]
    }
   ],
   "source": [
    "mod_k = ols('max_fitness_score ~ init', data=katsuura_results).fit()\n",
    "aov_table_k = sm.stats.anova_lm(mod_k, typ=2)\n",
    "print(aov_table_k)"
   ]
  },
  {
   "cell_type": "code",
   "execution_count": 231,
   "metadata": {
    "scrolled": true
   },
   "outputs": [
    {
     "name": "stdout",
     "output_type": "stream",
     "text": [
      "ANOVA results: F= 0.17098272282838575 , P = 0.6796874064338416\n"
     ]
    }
   ],
   "source": [
    "# testing for different init methods\n",
    "grouped_katsuura = katsuura_results.groupby(['init'])\n",
    "f_val, p_val = stats.f_oneway(grouped_katsuura.get_group('Uniform Random')['max_fitness_score'], grouped_katsuura.get_group('Opposition Based')['max_fitness_score'])  \n",
    " \n",
    "print( \"ANOVA results: F=\", f_val, \", P =\", p_val )"
   ]
  },
  {
   "cell_type": "markdown",
   "metadata": {},
   "source": [
    "### Katsuura - BoxPlot"
   ]
  },
  {
   "cell_type": "code",
   "execution_count": 86,
   "metadata": {},
   "outputs": [],
   "source": [
    "data_1 = katsuura_results[katsuura_results[\"init\"] == \"Uniform Random\"][\"time_to_max_fitness\"]\n",
    "data_2 = katsuura_results[katsuura_results[\"init\"] == \"Gaussian\"][\"time_to_max_fitness\"]\n",
    "data_3 = katsuura_results[katsuura_results[\"init\"] == \"Opposition Based\"][\"time_to_max_fitness\"]\n",
    "data_4 = katsuura_results[katsuura_results[\"init\"] == \"Adaptive Randomness\"][\"time_to_max_fitness\"]"
   ]
  },
  {
   "cell_type": "code",
   "execution_count": 87,
   "metadata": {},
   "outputs": [],
   "source": [
    "data_to_plot = [data_1, data_2, data_3, data_4]"
   ]
  },
  {
   "cell_type": "code",
   "execution_count": 88,
   "metadata": {},
   "outputs": [
    {
     "data": {
      "image/png": "[encoded data removed]",
      "text/plain": [
       "<matplotlib.figure.Figure at 0x1c20d61828>"
      ]
     },
     "metadata": {},
     "output_type": "display_data"
    }
   ],
   "source": [
    "# Create a figure instance\n",
    "fig = plt.figure(1, figsize=(9, 6))\n",
    "# Create an axes instance\n",
    "ax = fig.add_subplot(111)\n",
    "# Create the boxplot\n",
    "bp = ax.boxplot(data_to_plot)"
   ]
  },
  {
   "cell_type": "markdown",
   "metadata": {},
   "source": [
    "## Bent Cigar Function"
   ]
  },
  {
   "cell_type": "markdown",
   "metadata": {},
   "source": [
    "### Ben Cigar - Adaptive Randomness"
   ]
  },
  {
   "cell_type": "code",
   "execution_count": 107,
   "metadata": {},
   "outputs": [
    {
     "data": {
      "text/plain": [
       "9.89524553610881"
      ]
     },
     "execution_count": 107,
     "metadata": {},
     "output_type": "execute_result"
    }
   ],
   "source": [
    "b_url_base = 'https://raw.githubusercontent.com/LittlePea13/evo_comp_43/pere/BentCigarFio/BentCigarAdapt'\n",
    "bent_adapt = get_df_max_fitness_time(b_url_base, 100)\n",
    "bent_adapt[\"init\"] = 'Adaptive Randomness'\n",
    "bent_adapt[\"max_fitness_score\"].mean()"
   ]
  },
  {
   "cell_type": "code",
   "execution_count": 108,
   "metadata": {},
   "outputs": [
    {
     "data": {
      "text/html": [
       "<div>\n",
       "<style scoped>\n",
       "    .dataframe tbody tr th:only-of-type {\n",
       "        vertical-align: middle;\n",
       "    }\n",
       "\n",
       "    .dataframe tbody tr th {\n",
       "        vertical-align: top;\n",
       "    }\n",
       "\n",
       "    .dataframe thead th {\n",
       "        text-align: right;\n",
       "    }\n",
       "</style>\n",
       "<table border=\"1\" class=\"dataframe\">\n",
       "  <thead>\n",
       "    <tr style=\"text-align: right;\">\n",
       "      <th></th>\n",
       "      <th>max_fitness_score</th>\n",
       "      <th>time_to_max_fitness</th>\n",
       "      <th>gen_to_max_fitness</th>\n",
       "      <th>init</th>\n",
       "    </tr>\n",
       "  </thead>\n",
       "  <tbody>\n",
       "    <tr>\n",
       "      <th>0</th>\n",
       "      <td>9.999830</td>\n",
       "      <td>0.311</td>\n",
       "      <td>2358</td>\n",
       "      <td>Adaptive Randomness</td>\n",
       "    </tr>\n",
       "    <tr>\n",
       "      <th>1</th>\n",
       "      <td>9.999987</td>\n",
       "      <td>0.204</td>\n",
       "      <td>2491</td>\n",
       "      <td>Adaptive Randomness</td>\n",
       "    </tr>\n",
       "    <tr>\n",
       "      <th>2</th>\n",
       "      <td>9.993716</td>\n",
       "      <td>0.217</td>\n",
       "      <td>2494</td>\n",
       "      <td>Adaptive Randomness</td>\n",
       "    </tr>\n",
       "    <tr>\n",
       "      <th>3</th>\n",
       "      <td>9.999975</td>\n",
       "      <td>0.249</td>\n",
       "      <td>2451</td>\n",
       "      <td>Adaptive Randomness</td>\n",
       "    </tr>\n",
       "    <tr>\n",
       "      <th>4</th>\n",
       "      <td>9.987041</td>\n",
       "      <td>0.288</td>\n",
       "      <td>2491</td>\n",
       "      <td>Adaptive Randomness</td>\n",
       "    </tr>\n",
       "  </tbody>\n",
       "</table>\n",
       "</div>"
      ],
      "text/plain": [
       "   max_fitness_score  time_to_max_fitness  gen_to_max_fitness  \\\n",
       "0           9.999830                0.311                2358   \n",
       "1           9.999987                0.204                2491   \n",
       "2           9.993716                0.217                2494   \n",
       "3           9.999975                0.249                2451   \n",
       "4           9.987041                0.288                2491   \n",
       "\n",
       "                  init  \n",
       "0  Adaptive Randomness  \n",
       "1  Adaptive Randomness  \n",
       "2  Adaptive Randomness  \n",
       "3  Adaptive Randomness  \n",
       "4  Adaptive Randomness  "
      ]
     },
     "execution_count": 108,
     "metadata": {},
     "output_type": "execute_result"
    }
   ],
   "source": [
    "bent_adapt.head()"
   ]
  },
  {
   "cell_type": "markdown",
   "metadata": {},
   "source": [
    "### Bent Cigar - Gaussian"
   ]
  },
  {
   "cell_type": "code",
   "execution_count": 109,
   "metadata": {},
   "outputs": [
    {
     "data": {
      "text/plain": [
       "9.993989284741877"
      ]
     },
     "execution_count": 109,
     "metadata": {},
     "output_type": "execute_result"
    }
   ],
   "source": [
    "b_url_base_1 = 'https://raw.githubusercontent.com/LittlePea13/evo_comp_43/pere/BentCigarFio/BentCigarGauss'\n",
    "bent_gauss = get_df_max_fitness_time(b_url_base_1, 100)\n",
    "bent_gauss[\"init\"] = 'Gaussian'\n",
    "bent_gauss['max_fitness_score'].mean()"
   ]
  },
  {
   "cell_type": "code",
   "execution_count": 110,
   "metadata": {},
   "outputs": [
    {
     "data": {
      "text/html": [
       "<div>\n",
       "<style scoped>\n",
       "    .dataframe tbody tr th:only-of-type {\n",
       "        vertical-align: middle;\n",
       "    }\n",
       "\n",
       "    .dataframe tbody tr th {\n",
       "        vertical-align: top;\n",
       "    }\n",
       "\n",
       "    .dataframe thead th {\n",
       "        text-align: right;\n",
       "    }\n",
       "</style>\n",
       "<table border=\"1\" class=\"dataframe\">\n",
       "  <thead>\n",
       "    <tr style=\"text-align: right;\">\n",
       "      <th></th>\n",
       "      <th>max_fitness_score</th>\n",
       "      <th>time_to_max_fitness</th>\n",
       "      <th>gen_to_max_fitness</th>\n",
       "      <th>init</th>\n",
       "    </tr>\n",
       "  </thead>\n",
       "  <tbody>\n",
       "    <tr>\n",
       "      <th>0</th>\n",
       "      <td>9.999998</td>\n",
       "      <td>0.185</td>\n",
       "      <td>2360</td>\n",
       "      <td>Gaussian</td>\n",
       "    </tr>\n",
       "    <tr>\n",
       "      <th>1</th>\n",
       "      <td>9.996917</td>\n",
       "      <td>0.191</td>\n",
       "      <td>2486</td>\n",
       "      <td>Gaussian</td>\n",
       "    </tr>\n",
       "    <tr>\n",
       "      <th>2</th>\n",
       "      <td>9.999984</td>\n",
       "      <td>0.181</td>\n",
       "      <td>2201</td>\n",
       "      <td>Gaussian</td>\n",
       "    </tr>\n",
       "    <tr>\n",
       "      <th>3</th>\n",
       "      <td>9.999998</td>\n",
       "      <td>0.258</td>\n",
       "      <td>2485</td>\n",
       "      <td>Gaussian</td>\n",
       "    </tr>\n",
       "    <tr>\n",
       "      <th>4</th>\n",
       "      <td>9.999998</td>\n",
       "      <td>0.348</td>\n",
       "      <td>2450</td>\n",
       "      <td>Gaussian</td>\n",
       "    </tr>\n",
       "  </tbody>\n",
       "</table>\n",
       "</div>"
      ],
      "text/plain": [
       "   max_fitness_score  time_to_max_fitness  gen_to_max_fitness      init\n",
       "0           9.999998                0.185                2360  Gaussian\n",
       "1           9.996917                0.191                2486  Gaussian\n",
       "2           9.999984                0.181                2201  Gaussian\n",
       "3           9.999998                0.258                2485  Gaussian\n",
       "4           9.999998                0.348                2450  Gaussian"
      ]
     },
     "execution_count": 110,
     "metadata": {},
     "output_type": "execute_result"
    }
   ],
   "source": [
    "bent_gauss.head()"
   ]
  },
  {
   "cell_type": "markdown",
   "metadata": {},
   "source": [
    "### Bent Cigar - Opposition Based"
   ]
  },
  {
   "cell_type": "code",
   "execution_count": 111,
   "metadata": {},
   "outputs": [
    {
     "data": {
      "text/plain": [
       "9.830780928423765"
      ]
     },
     "execution_count": 111,
     "metadata": {},
     "output_type": "execute_result"
    }
   ],
   "source": [
    "b_url_base_2 = 'https://raw.githubusercontent.com/LittlePea13/evo_comp_43/pere/BentCigarFio/BentCigarOppo'\n",
    "bent_opp = get_df_max_fitness_time(b_url_base_2, 100)\n",
    "bent_opp[\"init\"] = 'Opposition Based'\n",
    "bent_opp['max_fitness_score'].mean()"
   ]
  },
  {
   "cell_type": "code",
   "execution_count": 112,
   "metadata": {},
   "outputs": [
    {
     "data": {
      "text/html": [
       "<div>\n",
       "<style scoped>\n",
       "    .dataframe tbody tr th:only-of-type {\n",
       "        vertical-align: middle;\n",
       "    }\n",
       "\n",
       "    .dataframe tbody tr th {\n",
       "        vertical-align: top;\n",
       "    }\n",
       "\n",
       "    .dataframe thead th {\n",
       "        text-align: right;\n",
       "    }\n",
       "</style>\n",
       "<table border=\"1\" class=\"dataframe\">\n",
       "  <thead>\n",
       "    <tr style=\"text-align: right;\">\n",
       "      <th></th>\n",
       "      <th>max_fitness_score</th>\n",
       "      <th>time_to_max_fitness</th>\n",
       "      <th>gen_to_max_fitness</th>\n",
       "      <th>init</th>\n",
       "    </tr>\n",
       "  </thead>\n",
       "  <tbody>\n",
       "    <tr>\n",
       "      <th>0</th>\n",
       "      <td>9.999960</td>\n",
       "      <td>0.216</td>\n",
       "      <td>2495</td>\n",
       "      <td>Opposition Based</td>\n",
       "    </tr>\n",
       "    <tr>\n",
       "      <th>1</th>\n",
       "      <td>9.999992</td>\n",
       "      <td>0.181</td>\n",
       "      <td>2270</td>\n",
       "      <td>Opposition Based</td>\n",
       "    </tr>\n",
       "    <tr>\n",
       "      <th>2</th>\n",
       "      <td>9.999931</td>\n",
       "      <td>0.196</td>\n",
       "      <td>2467</td>\n",
       "      <td>Opposition Based</td>\n",
       "    </tr>\n",
       "    <tr>\n",
       "      <th>3</th>\n",
       "      <td>9.999980</td>\n",
       "      <td>0.194</td>\n",
       "      <td>2475</td>\n",
       "      <td>Opposition Based</td>\n",
       "    </tr>\n",
       "    <tr>\n",
       "      <th>4</th>\n",
       "      <td>9.999864</td>\n",
       "      <td>0.471</td>\n",
       "      <td>2481</td>\n",
       "      <td>Opposition Based</td>\n",
       "    </tr>\n",
       "  </tbody>\n",
       "</table>\n",
       "</div>"
      ],
      "text/plain": [
       "   max_fitness_score  time_to_max_fitness  gen_to_max_fitness  \\\n",
       "0           9.999960                0.216                2495   \n",
       "1           9.999992                0.181                2270   \n",
       "2           9.999931                0.196                2467   \n",
       "3           9.999980                0.194                2475   \n",
       "4           9.999864                0.471                2481   \n",
       "\n",
       "               init  \n",
       "0  Opposition Based  \n",
       "1  Opposition Based  \n",
       "2  Opposition Based  \n",
       "3  Opposition Based  \n",
       "4  Opposition Based  "
      ]
     },
     "execution_count": 112,
     "metadata": {},
     "output_type": "execute_result"
    }
   ],
   "source": [
    "bent_opp.head()"
   ]
  },
  {
   "cell_type": "markdown",
   "metadata": {},
   "source": [
    "### Bent Cigar - Uniform Random"
   ]
  },
  {
   "cell_type": "code",
   "execution_count": 113,
   "metadata": {},
   "outputs": [
    {
     "data": {
      "text/plain": [
       "9.886569333856478"
      ]
     },
     "execution_count": 113,
     "metadata": {},
     "output_type": "execute_result"
    }
   ],
   "source": [
    "b_url_base_3 = 'https://raw.githubusercontent.com/LittlePea13/evo_comp_43/pere/BentCigarFio/BentCigarRandUnif'\n",
    "bent_unifrand = get_df_max_fitness_time(b_url_base_3, 100)\n",
    "bent_unifrand[\"init\"] = 'Uniform Random'\n",
    "bent_unifrand['max_fitness_score'].mean()"
   ]
  },
  {
   "cell_type": "code",
   "execution_count": 114,
   "metadata": {},
   "outputs": [
    {
     "data": {
      "text/html": [
       "<div>\n",
       "<style scoped>\n",
       "    .dataframe tbody tr th:only-of-type {\n",
       "        vertical-align: middle;\n",
       "    }\n",
       "\n",
       "    .dataframe tbody tr th {\n",
       "        vertical-align: top;\n",
       "    }\n",
       "\n",
       "    .dataframe thead th {\n",
       "        text-align: right;\n",
       "    }\n",
       "</style>\n",
       "<table border=\"1\" class=\"dataframe\">\n",
       "  <thead>\n",
       "    <tr style=\"text-align: right;\">\n",
       "      <th></th>\n",
       "      <th>max_fitness_score</th>\n",
       "      <th>time_to_max_fitness</th>\n",
       "      <th>gen_to_max_fitness</th>\n",
       "      <th>init</th>\n",
       "    </tr>\n",
       "  </thead>\n",
       "  <tbody>\n",
       "    <tr>\n",
       "      <th>0</th>\n",
       "      <td>9.999983</td>\n",
       "      <td>0.292</td>\n",
       "      <td>2491</td>\n",
       "      <td>Uniform Random</td>\n",
       "    </tr>\n",
       "    <tr>\n",
       "      <th>1</th>\n",
       "      <td>9.999986</td>\n",
       "      <td>0.258</td>\n",
       "      <td>2489</td>\n",
       "      <td>Uniform Random</td>\n",
       "    </tr>\n",
       "    <tr>\n",
       "      <th>2</th>\n",
       "      <td>6.112768</td>\n",
       "      <td>0.205</td>\n",
       "      <td>2495</td>\n",
       "      <td>Uniform Random</td>\n",
       "    </tr>\n",
       "    <tr>\n",
       "      <th>3</th>\n",
       "      <td>9.999977</td>\n",
       "      <td>0.198</td>\n",
       "      <td>2285</td>\n",
       "      <td>Uniform Random</td>\n",
       "    </tr>\n",
       "    <tr>\n",
       "      <th>4</th>\n",
       "      <td>9.999939</td>\n",
       "      <td>0.452</td>\n",
       "      <td>2484</td>\n",
       "      <td>Uniform Random</td>\n",
       "    </tr>\n",
       "  </tbody>\n",
       "</table>\n",
       "</div>"
      ],
      "text/plain": [
       "   max_fitness_score  time_to_max_fitness  gen_to_max_fitness            init\n",
       "0           9.999983                0.292                2491  Uniform Random\n",
       "1           9.999986                0.258                2489  Uniform Random\n",
       "2           6.112768                0.205                2495  Uniform Random\n",
       "3           9.999977                0.198                2285  Uniform Random\n",
       "4           9.999939                0.452                2484  Uniform Random"
      ]
     },
     "execution_count": 114,
     "metadata": {},
     "output_type": "execute_result"
    }
   ],
   "source": [
    "bent_unifrand.head()"
   ]
  },
  {
   "cell_type": "code",
   "execution_count": 115,
   "metadata": {},
   "outputs": [],
   "source": [
    "#concat all the frames together\n",
    "frames_b = [bent_adapt, bent_gauss, bent_opp, bent_unifrand]\n",
    "bent_results = pd.concat(frames_b)"
   ]
  },
  {
   "cell_type": "code",
   "execution_count": 116,
   "metadata": {},
   "outputs": [],
   "source": [
    "bent_results[\"gen_to_max_fitness\"] = bent_results[\"gen_to_max_fitness\"].astype(float)"
   ]
  },
  {
   "cell_type": "code",
   "execution_count": 117,
   "metadata": {},
   "outputs": [
    {
     "data": {
      "text/plain": [
       "(400, 4)"
      ]
     },
     "execution_count": 117,
     "metadata": {},
     "output_type": "execute_result"
    }
   ],
   "source": [
    "bent_results.shape"
   ]
  },
  {
   "cell_type": "markdown",
   "metadata": {},
   "source": [
    "### Bent Cigar - ANOVA"
   ]
  },
  {
   "cell_type": "markdown",
   "metadata": {},
   "source": [
    "####  Elapsed time to max fitness"
   ]
  },
  {
   "cell_type": "code",
   "execution_count": 118,
   "metadata": {},
   "outputs": [],
   "source": [
    "mod_b = ols('time_to_max_fitness ~ init', data=bent_results).fit()"
   ]
  },
  {
   "cell_type": "code",
   "execution_count": 119,
   "metadata": {},
   "outputs": [],
   "source": [
    "aov_table_b = sm.stats.anova_lm(mod_b, typ=2)"
   ]
  },
  {
   "cell_type": "code",
   "execution_count": 120,
   "metadata": {},
   "outputs": [
    {
     "name": "stdout",
     "output_type": "stream",
     "text": [
      "            sum_sq     df         F    PR(>F)\n",
      "init      0.052943    3.0  2.785037  0.040591\n",
      "Residual  2.509309  396.0       NaN       NaN\n"
     ]
    }
   ],
   "source": [
    "print(aov_table_b)"
   ]
  },
  {
   "cell_type": "markdown",
   "metadata": {},
   "source": [
    "#### Max fitness score"
   ]
  },
  {
   "cell_type": "code",
   "execution_count": 93,
   "metadata": {},
   "outputs": [],
   "source": [
    "mod_b_2 = ols('max_fitness_score ~ init', data=bent_results).fit()"
   ]
  },
  {
   "cell_type": "code",
   "execution_count": 94,
   "metadata": {},
   "outputs": [],
   "source": [
    "aov_table_b_2 = sm.stats.anova_lm(mod_b_2, typ=2)"
   ]
  },
  {
   "cell_type": "code",
   "execution_count": 95,
   "metadata": {},
   "outputs": [
    {
     "name": "stdout",
     "output_type": "stream",
     "text": [
      "              sum_sq     df         F    PR(>F)\n",
      "init        1.226056    3.0  0.709306  0.547508\n",
      "Residual  112.930544  196.0       NaN       NaN\n"
     ]
    }
   ],
   "source": [
    "print(aov_table_b_2)"
   ]
  },
  {
   "cell_type": "markdown",
   "metadata": {},
   "source": [
    "#### Number of Generations to Max Fitness"
   ]
  },
  {
   "cell_type": "code",
   "execution_count": 123,
   "metadata": {},
   "outputs": [],
   "source": [
    "mod_b_3 = ols('gen_to_max_fitness ~ init', data=bent_results).fit()"
   ]
  },
  {
   "cell_type": "code",
   "execution_count": 124,
   "metadata": {},
   "outputs": [],
   "source": [
    "aov_table_b_3 = sm.stats.anova_lm(mod_b_3, typ=2)"
   ]
  },
  {
   "cell_type": "code",
   "execution_count": 125,
   "metadata": {
    "scrolled": true
   },
   "outputs": [
    {
     "name": "stdout",
     "output_type": "stream",
     "text": [
      "              sum_sq     df         F    PR(>F)\n",
      "init        44510.62    3.0  1.780061  0.150379\n",
      "Residual  3300673.54  396.0       NaN       NaN\n"
     ]
    }
   ],
   "source": [
    "print(aov_table_b_3)"
   ]
  },
  {
   "cell_type": "code",
   "execution_count": 237,
   "metadata": {},
   "outputs": [
    {
     "name": "stdout",
     "output_type": "stream",
     "text": [
      "ANOVA results: F= 5.132785553340853 , P = 0.024560204750289236\n"
     ]
    }
   ],
   "source": [
    "# testing for different init methods\n",
    "grouped_bentcigar = bent_results.groupby(['init'])\n",
    "f_val, p_val = stats.f_oneway(grouped_bentcigar.get_group('Gaussian')['time_to_max_fitness'], grouped_bentcigar.get_group('Uniform Random')['time_to_max_fitness'])  \n",
    " \n",
    "print( \"ANOVA results: F=\", f_val, \", P =\", p_val )"
   ]
  },
  {
   "cell_type": "markdown",
   "metadata": {},
   "source": [
    "### Bent Cigar - BoxPlot"
   ]
  },
  {
   "cell_type": "code",
   "execution_count": 126,
   "metadata": {},
   "outputs": [],
   "source": [
    "data_1 = bent_results[bent_results[\"init\"] == \"Uniform Random\"][\"time_to_max_fitness\"]\n",
    "data_2 = bent_results[bent_results[\"init\"] == \"Gaussian\"][\"time_to_max_fitness\"]\n",
    "data_3 = bent_results[bent_results[\"init\"] == \"Opposition Based\"][\"time_to_max_fitness\"]\n",
    "data_4 = bent_results[bent_results[\"init\"] == \"Adaptive Randomness\"][\"time_to_max_fitness\"]"
   ]
  },
  {
   "cell_type": "code",
   "execution_count": 127,
   "metadata": {},
   "outputs": [],
   "source": [
    "data_to_plot = [data_1, data_2, data_3, data_4]"
   ]
  },
  {
   "cell_type": "code",
   "execution_count": 128,
   "metadata": {},
   "outputs": [
    {
     "data": {
      "image/png": "[encoded data removed]",
      "text/plain": [
       "<matplotlib.figure.Figure at 0x1c1fcad7b8>"
      ]
     },
     "metadata": {},
     "output_type": "display_data"
    }
   ],
   "source": [
    "# Create a figure instance\n",
    "fig = plt.figure(1, figsize=(9, 6))\n",
    "# Create an axes instance\n",
    "ax = fig.add_subplot(111)\n",
    "# Create the boxplot\n",
    "bp = ax.boxplot(data_to_plot)"
   ]
  },
  {
   "cell_type": "code",
   "execution_count": null,
   "metadata": {},
   "outputs": [],
   "source": []
  }
 ],
 "metadata": {
  "kernelspec": {
   "display_name": "Python 3",
   "language": "python",
   "name": "python3"
  },
  "language_info": {
   "codemirror_mode": {
    "name": "ipython",
    "version": 3
   },
   "file_extension": ".py",
   "mimetype": "text/x-python",
   "name": "python",
   "nbconvert_exporter": "python",
   "pygments_lexer": "ipython3",
   "version": "3.6.4"
  }
 },
 "nbformat": 4,
 "nbformat_minor": 2
}
